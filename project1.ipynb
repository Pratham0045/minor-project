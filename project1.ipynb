{
 "cells": [
  {
   "cell_type": "code",
   "execution_count": 1,
   "id": "2f0e1e3a-0e30-4d51-98c4-6f1e04d391b7",
   "metadata": {},
   "outputs": [
    {
     "name": "stdout",
     "output_type": "stream",
     "text": [
      "pratham khanna\n"
     ]
    }
   ],
   "source": [
    "p=\"pratham khanna\"\n",
    "print(p)\n"
   ]
  },
  {
   "cell_type": "code",
   "execution_count": 2,
   "id": "12dc6790-ffe1-4b21-8e38-5cd504fdac8a",
   "metadata": {},
   "outputs": [
    {
     "name": "stdout",
     "output_type": "stream",
     "text": [
      "pka\n"
     ]
    }
   ],
   "source": [
    "k=\"pka\"\n",
    "print(k)"
   ]
  },
  {
   "cell_type": "code",
   "execution_count": null,
   "id": "80f4a20b-81e0-46b3-ac2e-8ca2c2aaaaf1",
   "metadata": {},
   "outputs": [],
   "source": []
  }
 ],
 "metadata": {
  "kernelspec": {
   "display_name": "Python 3 (ipykernel)",
   "language": "python",
   "name": "python3"
  },
  "language_info": {
   "codemirror_mode": {
    "name": "ipython",
    "version": 3
   },
   "file_extension": ".py",
   "mimetype": "text/x-python",
   "name": "python",
   "nbconvert_exporter": "python",
   "pygments_lexer": "ipython3",
   "version": "3.13.5"
  }
 },
 "nbformat": 4,
 "nbformat_minor": 5
}

{
 "cells": [
  {
   "cell_type": "code",
   "execution_count": 1,
   "id": "e7a62f70-4bc5-462b-a691-d2dc4509fb54",
   "metadata": {},
   "outputs": [
    {
     "name": "stdout",
     "output_type": "stream",
     "text": [
      "\n",
      "1. Check Balance\n",
      "2. Deposit\n",
      "3. Withdraw\n",
      "4. Exit\n"
     ]
    },
    {
     "name": "stdin",
     "output_type": "stream",
     "text": [
      "Choose an option:  2\n",
      "Enter amount to deposit: ₹ 1000\n"
     ]
    },
    {
     "name": "stdout",
     "output_type": "stream",
     "text": [
      "Deposited ₹ 1000\n",
      "\n",
      "1. Check Balance\n",
      "2. Deposit\n",
      "3. Withdraw\n",
      "4. Exit\n"
     ]
    },
    {
     "name": "stdin",
     "output_type": "stream",
     "text": [
      "Choose an option:  1\n"
     ]
    },
    {
     "name": "stdout",
     "output_type": "stream",
     "text": [
      "Balance: ₹ 2000\n",
      "\n",
      "1. Check Balance\n",
      "2. Deposit\n",
      "3. Withdraw\n",
      "4. Exit\n"
     ]
    },
    {
     "name": "stdin",
     "output_type": "stream",
     "text": [
      "Choose an option:  4\n"
     ]
    },
    {
     "name": "stdout",
     "output_type": "stream",
     "text": [
      "Thank you! Visit again.\n"
     ]
    }
   ],
   "source": [
    "#### balance = 1000  \n",
    "\n",
    "def check_balance():\n",
    "    print(\"Balance: ₹\", balance)\n",
    "\n",
    "def deposit():\n",
    "    global balance\n",
    "    amount = int(input(\"Enter amount to deposit: ₹\"))\n",
    "    balance += amount\n",
    "    print(\"Deposited ₹\", amount)\n",
    "\n",
    "def withdraw():\n",
    "    global balance\n",
    "    amount = int(input(\"Enter amount to withdraw: ₹\"))\n",
    "    if amount <= balance:\n",
    "        balance -= amount\n",
    "        print(\"Withdrawn ₹\", amount)\n",
    "    else:\n",
    "        print(\"Not enough balance!\")\n",
    "\n",
    "def atm():\n",
    "    while True:\n",
    "        print(\"\\n1. Check Balance\\n2. Deposit\\n3. Withdraw\\n4. Exit\")\n",
    "        choice = input(\"Choose an option: \")\n",
    "\n",
    "        if choice == '1':\n",
    "            check_balance()\n",
    "        elif choice == '2':\n",
    "            deposit()\n",
    "        elif choice == '3':\n",
    "            withdraw()\n",
    "        elif choice == '4':\n",
    "            print(\"Thank you! Visit again.\")\n",
    "            break\n",
    "        else:\n",
    "            print(\"Invalid option.\")\n",
    "atm()\n"
   ]
  }
 ],
 "metadata": {
  "kernelspec": {
   "display_name": "Python 3 (ipykernel)",
   "language": "python",
   "name": "python3"
  },
  "language_info": {
   "codemirror_mode": {
    "name": "ipython",
    "version": 3
   },
   "file_extension": ".py",
   "mimetype": "text/x-python",
   "name": "python",
   "nbconvert_exporter": "python",
   "pygments_lexer": "ipython3",
   "version": "3.13.5"
  }
 },
 "nbformat": 4,
 "nbformat_minor": 5
}

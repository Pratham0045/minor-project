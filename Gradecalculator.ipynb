{
 "cells": [
  {
   "cell_type": "code",
   "execution_count": 1,
   "id": "8ca7d437-b5ad-49a3-83a6-4d4a285e5a52",
   "metadata": {},
   "outputs": [
    {
     "name": "stdout",
     "output_type": "stream",
     "text": [
      "Enter marks out of 100 for 5 subjects:\n"
     ]
    },
    {
     "name": "stdin",
     "output_type": "stream",
     "text": [
      "Subject 1:  22\n",
      "Subject 2:  89\n",
      "Subject 3:  99\n",
      "Subject 4:  60\n",
      "Subject 5:  59\n"
     ]
    },
    {
     "name": "stdout",
     "output_type": "stream",
     "text": [
      "Percentage: 65.80%\n",
      "Grade: C\n"
     ]
    }
   ],
   "source": [
    "#grade calculator \n",
    "def calculate_grade():\n",
    "    print(\"Enter marks out of 100 for 5 subjects:\")\n",
    "\n",
    "    marks = []\n",
    "    for i in range(1, 6):\n",
    "        mark = float(input(f\"Subject {i}: \"))\n",
    "        marks.append(mark)\n",
    "\n",
    "    total = sum(marks)\n",
    "    percentage = total / 5\n",
    "\n",
    "    if percentage >= 90:\n",
    "        grade = 'A+'\n",
    "    elif percentage >= 80:\n",
    "        grade = 'A'\n",
    "    elif percentage >= 70:\n",
    "        grade = 'B'\n",
    "    elif percentage >= 60:\n",
    "        grade = 'C'\n",
    "    elif percentage >= 50:\n",
    "        grade = 'D'\n",
    "    else:\n",
    "        grade = 'F'\n",
    "\n",
    "    print(f\"Percentage: {percentage:.2f}%\")\n",
    "    print(f\"Grade: {grade}\")\n",
    "\n",
    "# Run the function\n",
    "calculate_grade()\n"
   ]
  }
 ],
 "metadata": {
  "kernelspec": {
   "display_name": "Python 3 (ipykernel)",
   "language": "python",
   "name": "python3"
  },
  "language_info": {
   "codemirror_mode": {
    "name": "ipython",
    "version": 3
   },
   "file_extension": ".py",
   "mimetype": "text/x-python",
   "name": "python",
   "nbconvert_exporter": "python",
   "pygments_lexer": "ipython3",
   "version": "3.13.5"
  }
 },
 "nbformat": 4,
 "nbformat_minor": 5
}
